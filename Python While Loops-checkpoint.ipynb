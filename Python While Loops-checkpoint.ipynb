{
 "cells": [
  {
   "cell_type": "markdown",
   "id": "ea57c7b1",
   "metadata": {},
   "source": [
    "TWO PRIMITIVE LOOP COMMNADS IN PYTHON \n",
    "\n",
    "a) FOR LOOP\n",
    "b) WHILE LOOP"
   ]
  },
  {
   "cell_type": "markdown",
   "id": "25803b2e",
   "metadata": {},
   "source": [
    "WHILE LOOP"
   ]
  },
  {
   "cell_type": "markdown",
   "id": "a7442219",
   "metadata": {},
   "source": [
    "Do you want to execute a set of statements as long as the mentioned condition is TRUE ?! Then use WHILE loop. \n",
    "\n",
    "While your tea is too hot :\n",
    "add a chip of ice"
   ]
  },
  {
   "cell_type": "markdown",
   "id": "18bfc25a",
   "metadata": {},
   "source": [
    "Example 1: Print i as long as i is less than 6:"
   ]
  },
  {
   "cell_type": "code",
   "execution_count": 1,
   "id": "2dab61e7",
   "metadata": {},
   "outputs": [
    {
     "name": "stdout",
     "output_type": "stream",
     "text": [
      "1\n",
      "2\n",
      "3\n",
      "4\n",
      "5\n"
     ]
    }
   ],
   "source": [
    "i = 1\n",
    "while i < 6:\n",
    "  print(i)\n",
    "  i += 1"
   ]
  },
  {
   "cell_type": "markdown",
   "id": "2dfc4e00",
   "metadata": {},
   "source": [
    "Note: i is the indexing variable and dont forget to mention the increment of i, otherwsie loop will process infinately"
   ]
  },
  {
   "cell_type": "code",
   "execution_count": 2,
   "id": "dd31b93f",
   "metadata": {},
   "outputs": [
    {
     "name": "stdout",
     "output_type": "stream",
     "text": [
      "1,2,3,4,5,"
     ]
    }
   ],
   "source": [
    "i = 1\n",
    "while i < 6:\n",
    "\tprint (i, end=',')\n",
    "\ti+=1"
   ]
  },
  {
   "cell_type": "markdown",
   "id": "98a5b0ab",
   "metadata": {},
   "source": [
    "BREAK STATEMENT \n",
    "\n",
    "In Python, break and continue statements can alter the flow of a normal loop. Loops iterate over a block of code until the test expression is false, but sometimes we wish to terminate the current iteration or even the whole loop without checking test expression. The break statement terminates the loop containing it. Control of the program flows to the statement immediately after the body of the loop. If the break statement is inside a nested loop (loop inside another loop), the break statement will terminate the innermost loop."
   ]
  },
  {
   "cell_type": "code",
   "execution_count": 3,
   "id": "01fad4de",
   "metadata": {},
   "outputs": [
    {
     "name": "stdout",
     "output_type": "stream",
     "text": [
      "1\n",
      "2\n",
      "3\n"
     ]
    }
   ],
   "source": [
    "i = 1\n",
    "while i < 6:\n",
    "  print(i)\n",
    "  if i == 3:\n",
    "    break\n",
    "  i += 1"
   ]
  },
  {
   "cell_type": "markdown",
   "id": "fc8cf491",
   "metadata": {},
   "source": [
    "CONTINUE STATEMENT\n",
    "\n",
    "The continue statement is used to skip the rest of the code inside a loop for the current iteration only. Loop does not terminate but continues on with the next iteration."
   ]
  },
  {
   "cell_type": "code",
   "execution_count": 4,
   "id": "993c628f",
   "metadata": {},
   "outputs": [
    {
     "name": "stdout",
     "output_type": "stream",
     "text": [
      "1\n",
      "2\n",
      "4\n",
      "5\n",
      "6\n"
     ]
    }
   ],
   "source": [
    "i = 0\n",
    "while i < 6:\n",
    "  i += 1\n",
    "  if i == 3: \n",
    "    continue # Continue skips execution of the code below - Hence \"3\" is not printed in the result\n",
    "  print(i)"
   ]
  },
  {
   "cell_type": "markdown",
   "id": "ed86fee7",
   "metadata": {},
   "source": [
    "ELSE STATEMENT\n",
    "\n",
    "Run a block of code once when the condition no longer is true:"
   ]
  },
  {
   "cell_type": "code",
   "execution_count": 5,
   "id": "0f63901d",
   "metadata": {},
   "outputs": [
    {
     "name": "stdout",
     "output_type": "stream",
     "text": [
      "1\n",
      "2\n",
      "3\n",
      "4\n",
      "5\n",
      "i is no longer less than 6\n"
     ]
    }
   ],
   "source": [
    "i = 1\n",
    "while i < 6:\n",
    "  print(i)\n",
    "  i += 1\n",
    "else:\n",
    "  print(\"i is no longer less than 6\")"
   ]
  },
  {
   "cell_type": "markdown",
   "id": "3edd5f17",
   "metadata": {},
   "source": [
    "Example 2: Program to add natural numbers up to n: sum = 1+2+3+...+n"
   ]
  },
  {
   "cell_type": "code",
   "execution_count": 6,
   "id": "a1d4cc99",
   "metadata": {},
   "outputs": [
    {
     "name": "stdout",
     "output_type": "stream",
     "text": [
      "Enter n: 10\n",
      "The sum is 55\n"
     ]
    }
   ],
   "source": [
    "n = int(input(\"Enter n: \"))\n",
    "\n",
    "sum = 0\n",
    "i = 1\n",
    "while i <= n:\n",
    "    sum = sum + i\n",
    "    i = i+1\n",
    "print(\"The sum is\", sum)"
   ]
  },
  {
   "cell_type": "markdown",
   "id": "6f6266fd",
   "metadata": {},
   "source": [
    "Example 3: Program to print a statement certain number of times"
   ]
  },
  {
   "cell_type": "code",
   "execution_count": 7,
   "id": "57995d29",
   "metadata": {},
   "outputs": [
    {
     "name": "stdout",
     "output_type": "stream",
     "text": [
      "While Loop is active\n",
      "While Loop is active\n",
      "While Loop is active\n"
     ]
    }
   ],
   "source": [
    "counter = 0\n",
    "while counter < 3:\n",
    "    print(\"While Loop is active\")\n",
    "    counter = counter + 1"
   ]
  },
  {
   "cell_type": "markdown",
   "id": "7cc2a828",
   "metadata": {},
   "source": [
    "Example 4: Program to print numbers in descending order"
   ]
  },
  {
   "cell_type": "code",
   "execution_count": 8,
   "id": "c17ab924",
   "metadata": {},
   "outputs": [
    {
     "name": "stdout",
     "output_type": "stream",
     "text": [
      "115\n",
      "114\n",
      "113\n"
     ]
    }
   ],
   "source": [
    "temperature = 115  \n",
    "while temperature > 112:\n",
    "    print(temperature)\n",
    "    temperature = temperature - 1"
   ]
  },
  {
   "cell_type": "markdown",
   "id": "7d020f90",
   "metadata": {},
   "source": [
    "Example 5: Program to print numbers in ascending order"
   ]
  },
  {
   "cell_type": "code",
   "execution_count": 9,
   "id": "51966f08",
   "metadata": {},
   "outputs": [
    {
     "name": "stdout",
     "output_type": "stream",
     "text": [
      "113\n",
      "114\n",
      "115\n"
     ]
    }
   ],
   "source": [
    "temperature = 113  \n",
    "while temperature <= 115:\n",
    "    print(temperature)\n",
    "    temperature = temperature + 1"
   ]
  },
  {
   "cell_type": "markdown",
   "id": "f82ae47f",
   "metadata": {},
   "source": [
    "Example 6: Display odd and Even Numbers"
   ]
  },
  {
   "cell_type": "code",
   "execution_count": 10,
   "id": "e0aabdd2",
   "metadata": {},
   "outputs": [
    {
     "name": "stdout",
     "output_type": "stream",
     "text": [
      "Odd numbers are:  1 3 5 7 9 \n",
      "Even numbers are:  2 4 6 8 10 \n"
     ]
    }
   ],
   "source": [
    "tmp = 1\n",
    "even = \"\"\n",
    "odd  = \"\"\n",
    "while tmp <= 10:\n",
    "    if tmp % 2 == 0:\n",
    "        even += str(tmp) + \" \"\n",
    "    else:\n",
    "        odd += str(tmp) + \" \"\n",
    "\n",
    "    tmp += 1\n",
    "\n",
    "\n",
    "print(\"Odd numbers are: \" , odd)\n",
    "print(\"Even numbers are: \" , even)"
   ]
  },
  {
   "cell_type": "markdown",
   "id": "c4e42195",
   "metadata": {},
   "source": [
    "Example 7: Program that will display the numbers from 1 to 50 which is divisible by 5."
   ]
  },
  {
   "cell_type": "code",
   "execution_count": 11,
   "id": "748afafe",
   "metadata": {},
   "outputs": [
    {
     "name": "stdout",
     "output_type": "stream",
     "text": [
      "Numbers Divisible by 5:  5 10 15 20 25 30 35 40 45 50 \n"
     ]
    }
   ],
   "source": [
    "tmp = 1\n",
    "Num  = \"\"\n",
    "while tmp <= 50:\n",
    "    if tmp % 5 == 0:\n",
    "        Num += str(tmp) + \" \"\n",
    "    tmp += 1\n",
    "\n",
    "\n",
    "print(\"Numbers Divisible by 5: \" , Num)\n"
   ]
  },
  {
   "cell_type": "markdown",
   "id": "fec3adc4",
   "metadata": {},
   "source": [
    "Example 8: Enter the input and print cumulative average of the input numbers"
   ]
  },
  {
   "cell_type": "code",
   "execution_count": 13,
   "id": "e0668e11",
   "metadata": {},
   "outputs": [
    {
     "name": "stdout",
     "output_type": "stream",
     "text": [
      "10\n",
      "average of 10  is: 10.0\n",
      "20\n",
      "average of 10 20  is: 15.0\n",
      "30\n",
      "average of 10 20 30  is: 20.0\n",
      "40\n",
      "average of 10 20 30 40  is: 25.0\n",
      "50\n",
      "average of 10 20 30 40 50  is: 30.0\n",
      "60\n",
      "average of 10 20 30 40 50 60  is: 35.0\n",
      "70\n",
      "average of 10 20 30 40 50 60 70  is: 40.0\n",
      "80\n",
      "average of 10 20 30 40 50 60 70 80  is: 45.0\n",
      "90\n",
      "average of 10 20 30 40 50 60 70 80 90  is: 50.0\n"
     ]
    }
   ],
   "source": [
    "sum = 0\n",
    "A =\"\"\n",
    "i=1\n",
    "while i<10:\n",
    "    num = int(input())\n",
    "    sum = sum +num\n",
    "    A += str(num) + \" \"\n",
    "    i = i+1\n",
    "    print (\"average of\",A,\"is:\", sum/(i-1))"
   ]
  },
  {
   "cell_type": "markdown",
   "id": "491319c5",
   "metadata": {},
   "source": [
    "Example 9: Printing patterns using while loop"
   ]
  },
  {
   "cell_type": "code",
   "execution_count": 14,
   "id": "91552009",
   "metadata": {},
   "outputs": [
    {
     "name": "stdout",
     "output_type": "stream",
     "text": [
      "*\n",
      "**\n",
      "***\n",
      "****\n"
     ]
    }
   ],
   "source": [
    "i = 1\n",
    "while i<=4:\n",
    "  print (\"*\"*i)\n",
    "  i = i+1"
   ]
  },
  {
   "cell_type": "code",
   "execution_count": 15,
   "id": "78b23002",
   "metadata": {},
   "outputs": [
    {
     "name": "stdout",
     "output_type": "stream",
     "text": [
      "  *  \n",
      " *** \n",
      "*****\n",
      " *** \n",
      "  *  \n"
     ]
    }
   ],
   "source": [
    "i = 1\n",
    "j = 2\n",
    "while i>=1:\n",
    "  a =  \" \"*j+\"*\"*i+\" \"*j\n",
    "  print (a)\n",
    "  i = i+2\n",
    "  j = j-1\n",
    "  if i>5:\n",
    "    break\n",
    "i = 3\n",
    "j = 1\n",
    "while i>=1:\n",
    "  a =  \" \"*j+\"*\"*i+\" \"*j\n",
    "  print (a)\n",
    "  i = i-2\n",
    "  j = j+1"
   ]
  },
  {
   "cell_type": "code",
   "execution_count": 16,
   "id": "9e9fafb1",
   "metadata": {},
   "outputs": [
    {
     "name": "stdout",
     "output_type": "stream",
     "text": [
      "1010101\n",
      " 10101 \n",
      "  101  \n",
      "   1   \n"
     ]
    }
   ],
   "source": [
    "i = 3\n",
    "j = 1\n",
    "k = 0\n",
    "while i>=0:\n",
    "  a =  \" \"*k+\"1\"*j+\"01\"*i+\" \"*k\n",
    "  print (a)\n",
    "  i = i-1\n",
    "  j = j\n",
    "  k = k+1\n",
    "    "
   ]
  },
  {
   "cell_type": "markdown",
   "id": "75b655b5",
   "metadata": {},
   "source": [
    "Example 10: Print Multiplication Table"
   ]
  },
  {
   "cell_type": "code",
   "execution_count": 17,
   "id": "fa645c70",
   "metadata": {},
   "outputs": [
    {
     "name": "stdout",
     "output_type": "stream",
     "text": [
      "24 * 1 = 24\n",
      "24 * 2 = 48\n",
      "24 * 3 = 72\n",
      "24 * 4 = 96\n",
      "24 * 5 = 120\n",
      "24 * 6 = 144\n",
      "24 * 7 = 168\n",
      "24 * 8 = 192\n",
      "24 * 9 = 216\n",
      "24 * 10 = 240\n"
     ]
    }
   ],
   "source": [
    "i = 1\n",
    "while i<=10:\n",
    "  print (\"24\", \"*\", i ,\"=\" ,(24*i))\n",
    "  i = i+1"
   ]
  },
  {
   "cell_type": "code",
   "execution_count": 19,
   "id": "911bbec1",
   "metadata": {},
   "outputs": [
    {
     "name": "stdout",
     "output_type": "stream",
     "text": [
      "Enter Number:\n",
      "10\n",
      "10 * 1 = 10\n",
      "10 * 2 = 20\n",
      "10 * 3 = 30\n",
      "10 * 4 = 40\n",
      "10 * 5 = 50\n",
      "10 * 6 = 60\n",
      "10 * 7 = 70\n",
      "10 * 8 = 80\n",
      "10 * 9 = 90\n",
      "10 * 10 = 100\n"
     ]
    }
   ],
   "source": [
    "print(\"Enter Number:\")\n",
    "\n",
    "a = int(input())\n",
    "b = 1\n",
    "while b <= 10:\n",
    "    print (\"%d * %d = %d\" %(a, b, a*b))\n",
    "    b+=1"
   ]
  },
  {
   "cell_type": "markdown",
   "id": "034c17f9",
   "metadata": {},
   "source": [
    "Example 11: Factorial of number"
   ]
  },
  {
   "cell_type": "code",
   "execution_count": 22,
   "id": "137fcbed",
   "metadata": {},
   "outputs": [
    {
     "name": "stdout",
     "output_type": "stream",
     "text": [
      "Enter number\n",
      "10\n",
      "Factorial of 0 is 3628800\n"
     ]
    }
   ],
   "source": [
    "print (\"Enter number\")\n",
    "x = int(input())\n",
    "fac = 1\n",
    "if x == 0:\n",
    "  print (1)\n",
    "else:\n",
    "  while x>=1:\n",
    "    fac = fac*x\n",
    "    x = x-1\n",
    "  print (\"Factorial of\", x, \"is\" , fac)"
   ]
  },
  {
   "cell_type": "markdown",
   "id": "76980503",
   "metadata": {},
   "source": [
    "Example 12: While loop involving a list instead of numeric comparison"
   ]
  },
  {
   "cell_type": "code",
   "execution_count": 23,
   "id": "3f9f2ae6",
   "metadata": {},
   "outputs": [
    {
     "name": "stdout",
     "output_type": "stream",
     "text": [
      "baz\n",
      "bar\n",
      "foo\n"
     ]
    }
   ],
   "source": [
    "a = ['foo', 'bar', 'baz']\n",
    "while a:\n",
    "        print(a.pop(-1))"
   ]
  },
  {
   "cell_type": "markdown",
   "id": "483ca273",
   "metadata": {},
   "source": [
    "Example 13: Nested While loop"
   ]
  },
  {
   "cell_type": "code",
   "execution_count": 24,
   "id": "c107fba1",
   "metadata": {},
   "outputs": [
    {
     "name": "stdout",
     "output_type": "stream",
     "text": [
      "Babai Hotel\n",
      "> idli\n",
      "> wada\n",
      "Nijam Palace\n",
      "> idli\n",
      "> wada\n"
     ]
    }
   ],
   "source": [
    ">>> a = ['Babai Hotel', 'Nijam Palace']\n",
    ">>> while len(a):\n",
    "...     print(a.pop(0))\n",
    "...     b = ['idli', 'wada']\n",
    "...     while len(b):\n",
    "...         print('>', b.pop(0))"
   ]
  },
  {
   "cell_type": "markdown",
   "id": "f1c1516e",
   "metadata": {},
   "source": [
    "Example 14: While loop inside if loop"
   ]
  },
  {
   "cell_type": "code",
   "execution_count": 25,
   "id": "c4aee4cc",
   "metadata": {},
   "outputs": [
    {
     "name": "stdout",
     "output_type": "stream",
     "text": [
      "Enter Number greater than 10\n",
      "10\n",
      "Can't forward to the next steps\n",
      "Thank you!\n"
     ]
    }
   ],
   "source": [
    "print (\"Enter Number greater than 10\")\n",
    "n = int(input())\n",
    "\n",
    "if n > 10:\n",
    "    print (\"Your have entered right number\")\n",
    "    while n > 10:\n",
    "        print (\"Please proceed to the next steps of registration\")\n",
    "        break\n",
    "else:\n",
    "    while n <= 10:\n",
    "        print (\"Can't forward to the next steps\")\n",
    "        break\n",
    "\n",
    "    print(\"Thank you!\")\n",
    "    "
   ]
  },
  {
   "cell_type": "code",
   "execution_count": 26,
   "id": "8a02fdae",
   "metadata": {},
   "outputs": [
    {
     "name": "stdout",
     "output_type": "stream",
     "text": [
      "Enter Number greater than 10\n",
      "200\n",
      "Your have entered right number\n",
      "Please proceed to the next steps of registration\n"
     ]
    }
   ],
   "source": [
    "print (\"Enter Number greater than 10\")\n",
    "n = int(input())\n",
    "\n",
    "if n > 10:\n",
    "    print (\"Your have entered right number\")\n",
    "    while n > 10:\n",
    "        print (\"Please proceed to the next steps of registration\")\n",
    "        break\n",
    "else:\n",
    "    while n <= 10:\n",
    "        print (\"Can't forward to the next steps\")\n",
    "        break\n",
    "\n",
    "    print(\"Thank you!\")"
   ]
  },
  {
   "cell_type": "code",
   "execution_count": 27,
   "id": "3a1a3c6c",
   "metadata": {},
   "outputs": [
    {
     "name": "stdout",
     "output_type": "stream",
     "text": [
      "Enter Number greater than 10\n",
      "100\n",
      "Your have entered right number\n",
      "Please proceed to the next steps of registration\n"
     ]
    }
   ],
   "source": [
    "print (\"Enter Number greater than 10\")\n",
    "n = int(input())\n",
    "\n",
    "if n > 10:\n",
    "    print (\"Your have entered right number\")\n",
    "    while n > 10:\n",
    "        print (\"Please proceed to the next steps of registration\")\n",
    "        break\n",
    "else:\n",
    "    while n <= 10:\n",
    "        print (\"Can't forward to the next steps\")\n",
    "        break\n",
    "\n",
    "    print(\"Thank you!\")\n",
    "    "
   ]
  },
  {
   "cell_type": "markdown",
   "id": "ef84eafa",
   "metadata": {},
   "source": [
    "Example 15: Program, which asks for inputs of the initial balance K0 and the interest rate. Further, the program shall calculate the new capital K1 after one year including the interest. The program with a while-loop, so that the capital Kn after a period of n years can be calculated."
   ]
  },
  {
   "cell_type": "code",
   "execution_count": 28,
   "id": "b629aee0",
   "metadata": {},
   "outputs": [
    {
     "name": "stdout",
     "output_type": "stream",
     "text": [
      "Starting capital? 100\n",
      "Interest rate? 10\n",
      "Number of years? 5\n",
      "1 110.0\n",
      "2 121.0\n",
      "3 133.1\n",
      "4 146.41\n",
      "5 161.051\n",
      "Capital after 5 ys: 161.051\n"
     ]
    }
   ],
   "source": [
    "K = float(input(\"Starting capital? \"))\n",
    "p = float(input(\"Interest rate? \"))\n",
    "n = int(input(\"Number of years? \"))\n",
    "\n",
    "i = 0\n",
    "while i < n:\n",
    "    K +=  K * p / 100.0\n",
    "    i += 1\n",
    "    print(i, K)\n",
    "print(\"Capital after \" + str(n) + \" ys: \" + str(K))"
   ]
  },
  {
   "cell_type": "code",
   "execution_count": null,
   "id": "d9ae639b",
   "metadata": {},
   "outputs": [],
   "source": [
    "Example 16: Program which asks for an input and compares with a random no. until it equals "
   ]
  },
  {
   "cell_type": "code",
   "execution_count": 29,
   "id": "f6d6fe11",
   "metadata": {},
   "outputs": [
    {
     "name": "stdout",
     "output_type": "stream",
     "text": [
      "New number: 10\n",
      "Number too large\n",
      "New number: 20\n",
      "Number too large\n",
      "New number: 59\n",
      "Number too large\n",
      "New number: 498\n",
      "Number too large\n",
      "New number: 54\n",
      "Number too large\n",
      "New number: 54\n",
      "Number too large\n",
      "New number: 01\n",
      "Congratulations. You made it!\n"
     ]
    }
   ],
   "source": [
    "import random\n",
    "upper_bound = 20\n",
    "lower_bound = 1\n",
    "#to_be_guessed = int(n * random.random()) + 1\n",
    "to_be_guessed = random.randint(lower_bound, upper_bound)\n",
    "guess = 0\n",
    "while guess != to_be_guessed:\n",
    "    guess = int(input(\"New number: \"))\n",
    "    if guess > 0:\n",
    "        if guess > to_be_guessed:\n",
    "            print(\"Number too large\")\n",
    "        elif guess < to_be_guessed:\n",
    "            print(\"Number too small\")\n",
    "    else:\n",
    "        # 0 means giving up\n",
    "        print(\"Sorry that you're giving up!\")\n",
    "        break   # break out of a loop, don't execute \"else\"\n",
    "else:\n",
    "    print(\"Congratulations. You made it!\")"
   ]
  },
  {
   "cell_type": "code",
   "execution_count": null,
   "id": "c05f9cc3",
   "metadata": {},
   "outputs": [],
   "source": [
    "import random\n",
    "upper_bound = 20\n",
    "lower_bound = 1\n",
    "#to_be_guessed = int(n * random.random()) + 1\n",
    "to_be_guessed = random.randint(lower_bound, upper_bound)\n",
    "guess = 0\n",
    "while guess != to_be_guessed:\n",
    "    guess = int(input(\"New number: \"))\n",
    "    if guess > 0:\n",
    "        if guess > to_be_guessed:\n",
    "            print(\"Number too large\")\n",
    "        elif guess < to_be_guessed:\n",
    "            print(\"Number too small\")\n",
    "    else:\n",
    "        # 0 means giving up\n",
    "        print(\"Sorry that you're giving up!\")\n",
    "        break   # break out of a loop, don't execute \"else\"\n",
    "else:\n",
    "    print(\"Congratulations. You made it!\")"
   ]
  },
  {
   "cell_type": "markdown",
   "id": "ef16e4ac",
   "metadata": {},
   "source": [
    "Example 17: Fibonacci Series"
   ]
  },
  {
   "cell_type": "code",
   "execution_count": null,
   "id": "8de668b8",
   "metadata": {},
   "outputs": [],
   "source": [
    "x,y=0,1\n",
    "\n",
    "while y<50:\n",
    "    print(y)\n",
    "    x,y = y,x+y"
   ]
  },
  {
   "cell_type": "markdown",
   "id": "2c0b2e20",
   "metadata": {},
   "source": [
    "Example 18: Print Write a method with a while loop to prints 1 through\n",
    "n in square brackets. For example, if n = 6 print [1] [2] [3] [4] [5] [6]"
   ]
  },
  {
   "cell_type": "code",
   "execution_count": null,
   "id": "355e5b77",
   "metadata": {},
   "outputs": [],
   "source": [
    "n = int(input())\n",
    "\n",
    "i=1\n",
    "\n",
    "while i <= n:\n",
    "   \n",
    "    print(\"[\",i,\"]\", end='  ')\n",
    "\n",
    "    i +=1\n",
    "    \n",
    "    \n",
    "    "
   ]
  },
  {
   "cell_type": "markdown",
   "id": "9fc5c002",
   "metadata": {},
   "source": [
    "Example 19: Print an empty list with random int numbers through while loop"
   ]
  },
  {
   "cell_type": "code",
   "execution_count": null,
   "id": "a88e80cb",
   "metadata": {},
   "outputs": [],
   "source": [
    "import random\n",
    "randlist = [random.randint(1, 100) for i in range(0, 5)]\n",
    "i=0\n",
    "while i in range(0,5):\n",
    "    c=random.randint(1,100)\n",
    "    randlist.append(c)\n",
    "    i=i+1\n",
    "print(randlist)\n",
    "print(\"Minimum value:\\t\",min(randlist))\n",
    "print(\"Maximum value:\\t\",max(randlist))"
   ]
  },
  {
   "cell_type": "markdown",
   "id": "3301d11d",
   "metadata": {},
   "source": [
    "Example 20: Print the list as and when a non integer number is entered"
   ]
  },
  {
   "cell_type": "code",
   "execution_count": null,
   "id": "f38d3151",
   "metadata": {},
   "outputs": [],
   "source": [
    "# creating an empty list\n",
    "lst = []\n",
    "\n",
    "# try block to handle the exception \n",
    "try:\n",
    "    my_list = []    \n",
    "    while True: \n",
    "        my_list.append(int(input()))        \n",
    "# if input is not-integer, just print the list \n",
    "except: \n",
    "    print(my_list)\n",
    "    "
   ]
  },
  {
   "cell_type": "markdown",
   "id": "fced4828",
   "metadata": {},
   "source": [
    "Example 21: Print the square roots of the first 25 odd positive integers."
   ]
  },
  {
   "cell_type": "code",
   "execution_count": null,
   "id": "b7d8340f",
   "metadata": {},
   "outputs": [],
   "source": [
    "i=1\n",
    "n =25\n",
    "while i <= n:\n",
    "    if i%2 !=0:\n",
    "        print(i,round(i**(0.5),2), end = '\\n')  \n",
    "    i +=1"
   ]
  },
  {
   "cell_type": "markdown",
   "id": "48baaa00",
   "metadata": {},
   "source": [
    "Example 22; Repeatedly print the value of the variable xValue, decreasing it by 0.5 each time,\n",
    "as long as xValue remains positive."
   ]
  },
  {
   "cell_type": "code",
   "execution_count": null,
   "id": "041152f3",
   "metadata": {},
   "outputs": [],
   "source": [
    "n = int(input())\n",
    "i=n\n",
    "while i<=n:\n",
    "    print(i, end = \" , \")\n",
    "    if i == 0:\n",
    "        break\n",
    "    i -= 0.5"
   ]
  },
  {
   "cell_type": "markdown",
   "id": "77743c2c",
   "metadata": {},
   "source": [
    "Example 23: Repeats a block of code as long as the user indicates they want it to"
   ]
  },
  {
   "cell_type": "code",
   "execution_count": 4,
   "id": "932f55ed",
   "metadata": {},
   "outputs": [
    {
     "name": "stdout",
     "output_type": "stream",
     "text": [
      "Number of times to repeat:\n",
      "5\n",
      "1 time\n",
      "2 time\n",
      "3 time\n",
      "4 time\n",
      "5 time\n"
     ]
    }
   ],
   "source": [
    "print(\"Number of times to repeat:\")\n",
    "n = int(input())\n",
    "i=1\n",
    "while i<=n:\n",
    "    print(i, \"time\")\n",
    "    i +=1"
   ]
  },
  {
   "cell_type": "markdown",
   "id": "d9521112",
   "metadata": {},
   "source": [
    "Example 24: Drive the user crazy by insisting they re-enter a particular input no matter what\n",
    "they enter. Be creative..."
   ]
  },
  {
   "cell_type": "code",
   "execution_count": null,
   "id": "cee9a99d",
   "metadata": {},
   "outputs": [
    {
     "name": "stdout",
     "output_type": "stream",
     "text": [
      "Please enter an integer\n",
      "1\n",
      "Please re-enter the number:\n",
      "90\n",
      "Please re-enter the number:\n",
      "1000000\n",
      "Please re-enter the number:\n",
      "-100\n",
      "Please re-enter the number:\n"
     ]
    }
   ],
   "source": [
    "print(\"Please enter an integer\")\n",
    "n = int(input())\n",
    "i = 1\n",
    "while i<=n:\n",
    "    print(\"Please re-enter the number:\")\n",
    "    a = int(input())\n",
    "    i -=1 "
   ]
  },
  {
   "cell_type": "markdown",
   "id": "fac81265",
   "metadata": {},
   "source": [
    "Example 25: Write a python program that simulates tossing a coin fifty times. Then print the total number of heads \n",
    "and tails"
   ]
  },
  {
   "cell_type": "code",
   "execution_count": 3,
   "id": "a94d2e62",
   "metadata": {},
   "outputs": [
    {
     "name": "stdout",
     "output_type": "stream",
     "text": [
      "1 Tails!\n",
      "\n",
      "2 Heads!\n",
      "\n",
      "3 Tails!\n",
      "\n",
      "4 Tails!\n",
      "\n",
      "5 Heads!\n",
      "\n",
      "6 Heads!\n",
      "\n",
      "7 Heads!\n",
      "\n",
      "8 Heads!\n",
      "\n",
      "9 Heads!\n",
      "\n",
      "10 Heads!\n",
      "\n",
      "11 Tails!\n",
      "\n",
      "12 Heads!\n",
      "\n",
      "13 Heads!\n",
      "\n",
      "14 Heads!\n",
      "\n",
      "15 Tails!\n",
      "\n",
      "16 Heads!\n",
      "\n",
      "17 Tails!\n",
      "\n",
      "18 Tails!\n",
      "\n",
      "19 Tails!\n",
      "\n",
      "20 Heads!\n",
      "\n",
      "21 Tails!\n",
      "\n",
      "22 Heads!\n",
      "\n",
      "23 Tails!\n",
      "\n",
      "24 Heads!\n",
      "\n",
      "25 Tails!\n",
      "\n",
      "26 Heads!\n",
      "\n",
      "27 Heads!\n",
      "\n",
      "28 Heads!\n",
      "\n",
      "29 Heads!\n",
      "\n",
      "30 Heads!\n",
      "\n",
      "31 Tails!\n",
      "\n",
      "32 Tails!\n",
      "\n",
      "33 Tails!\n",
      "\n",
      "34 Heads!\n",
      "\n",
      "35 Heads!\n",
      "\n",
      "36 Tails!\n",
      "\n",
      "37 Heads!\n",
      "\n",
      "38 Tails!\n",
      "\n",
      "39 Heads!\n",
      "\n",
      "40 Tails!\n",
      "\n",
      "41 Tails!\n",
      "\n",
      "42 Tails!\n",
      "\n",
      "43 Heads!\n",
      "\n",
      "44 Tails!\n",
      "\n",
      "45 Heads!\n",
      "\n",
      "46 Heads!\n",
      "\n",
      "47 Tails!\n",
      "\n",
      "48 Heads!\n",
      "\n",
      "49 Heads!\n",
      "\n",
      "50 Heads!\n",
      "\n",
      "51 Heads!\n",
      "\n",
      "52 Tails!\n",
      "\n",
      "53 Heads!\n",
      "\n",
      "54 Tails!\n",
      "\n",
      "55 Heads!\n",
      "\n",
      "56 Heads!\n",
      "\n",
      "57 Heads!\n",
      "\n",
      "58 Tails!\n",
      "\n",
      "59 Heads!\n",
      "\n",
      "60 Heads!\n",
      "\n",
      "61 Heads!\n",
      "\n",
      "62 Tails!\n",
      "\n",
      "63 Tails!\n",
      "\n",
      "64 Tails!\n",
      "\n",
      "65 Heads!\n",
      "\n",
      "66 Tails!\n",
      "\n",
      "67 Tails!\n",
      "\n",
      "68 Heads!\n",
      "\n",
      "69 Tails!\n",
      "\n",
      "70 Tails!\n",
      "\n",
      "71 Heads!\n",
      "\n",
      "72 Tails!\n",
      "\n",
      "73 Heads!\n",
      "\n",
      "74 Heads!\n",
      "\n",
      "75 Heads!\n",
      "\n",
      "76 Heads!\n",
      "\n",
      "77 Tails!\n",
      "\n",
      "78 Heads!\n",
      "\n",
      "79 Tails!\n",
      "\n",
      "80 Heads!\n",
      "\n",
      "81 Tails!\n",
      "\n",
      "82 Heads!\n",
      "\n",
      "83 Tails!\n",
      "\n",
      "84 Tails!\n",
      "\n",
      "85 Tails!\n",
      "\n",
      "86 Tails!\n",
      "\n",
      "87 Tails!\n",
      "\n",
      "88 Tails!\n",
      "\n",
      "89 Tails!\n",
      "\n",
      "90 Heads!\n",
      "\n",
      "91 Heads!\n",
      "\n",
      "92 Tails!\n",
      "\n",
      "93 Heads!\n",
      "\n",
      "94 Heads!\n",
      "\n",
      "95 Tails!\n",
      "\n",
      "96 Heads!\n",
      "\n",
      "97 Heads!\n",
      "\n",
      "98 Heads!\n",
      "\n",
      "99 Tails!\n",
      "\n",
      "100 Tails!\n",
      "\n",
      "\n",
      "Okay, you flipped heads 54 times \n",
      "\n",
      "and you flipped tails 46 times \n"
     ]
    }
   ],
   "source": [
    "import random\n",
    "\n",
    "total_heads = 0  # Define variable\n",
    "total_tails = 0  # Define variable\n",
    "count = 0        # Define variable\n",
    "\n",
    "\n",
    "while count < 100:\n",
    "\n",
    "    coin = random.randint(1, 2)  # Simulates the random numbers between the given start and stop range\n",
    "\n",
    "    if coin == 1:\n",
    "        total_heads += 1        # Variable to capture cumulative total count of heads\n",
    "        count += 1              # Variable to capture individual count of of head and tails\n",
    "        print(count,\"Heads!\\n\")\n",
    "        \n",
    "    elif coin == 2:\n",
    "        total_tails += 1        # Variable to capture cumulative total count of tails\n",
    "        count += 1              # Variable to capture individual count of of head and tails\n",
    "        print(count,\"Tails!\\n\")\n",
    "\n",
    "print(\"\\nOkay, you flipped heads\", total_heads, \"times \")\n",
    "print(\"\\nand you flipped tails\", total_tails, \"times \")"
   ]
  },
  {
   "cell_type": "code",
   "execution_count": null,
   "id": "09594e62",
   "metadata": {},
   "outputs": [],
   "source": [
    "Example 26: Write a python statement that simulates tossing a pair dice by printing two random integers between \n",
    "one and six"
   ]
  },
  {
   "cell_type": "code",
   "execution_count": 13,
   "id": "efb05b4e",
   "metadata": {},
   "outputs": [
    {
     "name": "stdout",
     "output_type": "stream",
     "text": [
      "Dice A rolled--> 5    Dice B rolled--> 5\n",
      "Do you want to roll again? Y/N\n",
      "Y\n",
      "Dice A rolled--> 1    Dice B rolled--> 3\n",
      "Do you want to roll again? Y/N\n",
      "N\n"
     ]
    }
   ],
   "source": [
    "import random\n",
    "repeat = True\n",
    "while repeat:\n",
    "    print(\"Dice A rolled-->\",random.randint(1,6),\"  \", \"Dice B rolled-->\", random.randint(1,6))\n",
    "    print(\"Do you want to roll again? Y/N\")\n",
    "    repeat = \"Y\" in input()"
   ]
  },
  {
   "cell_type": "markdown",
   "id": "f8f0ca68",
   "metadata": {},
   "source": [
    "Example 27: Write a python program that reads three integers from the keyboard and prints the largest of the three \n",
    "numbers"
   ]
  },
  {
   "cell_type": "code",
   "execution_count": 40,
   "id": "8587f78c",
   "metadata": {},
   "outputs": [
    {
     "name": "stdout",
     "output_type": "stream",
     "text": [
      "Please enter three integers\n",
      "50\n",
      "100\n",
      "89\n",
      "Largest of the three numbers is : 100\n"
     ]
    }
   ],
   "source": [
    "lst = [] # create an empty list\n",
    "\n",
    "print(\"Please enter three integers\") \n",
    "\n",
    "i=0     # Define variable\n",
    "\n",
    "while i < 3:\n",
    "    n = int(input())    # take the three integer inputs from the user\n",
    "    lst.append(n)       # adding the element\n",
    "    i += 1              # loop variable\n",
    "\n",
    "print(\"Largest of the three numbers is :\", max(lst))"
   ]
  },
  {
   "cell_type": "markdown",
   "id": "bd7fc347",
   "metadata": {},
   "source": [
    "Example 28: Sum function with while loop"
   ]
  },
  {
   "cell_type": "code",
   "execution_count": 7,
   "id": "d393c0f0",
   "metadata": {},
   "outputs": [
    {
     "name": "stdout",
     "output_type": "stream",
     "text": [
      "24.444444444444493\n"
     ]
    }
   ],
   "source": [
    "x = 9382\n",
    "SUM = 0\n",
    "while x > 0:\n",
    "        SUM = SUM + x % 10 \n",
    "        x = x / 10\n",
    "        \n",
    "print (SUM)"
   ]
  },
  {
   "cell_type": "markdown",
   "id": "27f65676",
   "metadata": {},
   "source": [
    "Example 29: Write a while-loop that prints the even numbers from 200 to 150 in descending order. (Hint: use %)"
   ]
  },
  {
   "cell_type": "code",
   "execution_count": 1,
   "id": "49674e86",
   "metadata": {},
   "outputs": [
    {
     "name": "stdout",
     "output_type": "stream",
     "text": [
      "200\n",
      "198\n",
      "196\n",
      "194\n",
      "192\n",
      "190\n",
      "188\n",
      "186\n",
      "184\n",
      "182\n",
      "180\n",
      "178\n",
      "176\n",
      "174\n",
      "172\n",
      "170\n",
      "168\n",
      "166\n",
      "164\n",
      "162\n",
      "160\n",
      "158\n",
      "156\n",
      "154\n",
      "152\n",
      "150\n"
     ]
    }
   ],
   "source": [
    "x = 200  \n",
    "while x >= 150:\n",
    "    if x % 2 == 0:\n",
    "        print(x)\n",
    "    x = x - 1\n",
    "    \n",
    "    "
   ]
  },
  {
   "cell_type": "markdown",
   "id": "ff2be8a4",
   "metadata": {},
   "source": [
    "Example 30: Write a loop to contain list of four even elements"
   ]
  },
  {
   "cell_type": "code",
   "execution_count": 7,
   "id": "7fae47cd",
   "metadata": {},
   "outputs": [
    {
     "name": "stdout",
     "output_type": "stream",
     "text": [
      "Enter an integer: 2\n",
      "Enter an integer: 6\n",
      "Enter an integer: 8\n",
      "Enter an integer: 10\n",
      "This list contains four elements even numbers: [2, 6, 8, 10]\n"
     ]
    }
   ],
   "source": [
    "\n",
    "nums = []   # Define the list\n",
    "\n",
    "# The loop will run while the length of the\n",
    "# list nums is less than 4\n",
    "\n",
    "while len(nums) < 4:\n",
    "    user_input = int(input(\"Enter an integer: \"))   # Ask for user input and store it in a variable as an integer.\n",
    "    if user_input % 2 == 0:                         # If the input is an even number, add it to the list\n",
    "        nums.append(user_input)\n",
    "        \n",
    "print(\"This list contains four elements even numbers:\", nums)        \n",
    "        "
   ]
  },
  {
   "cell_type": "markdown",
   "id": "3e568cca",
   "metadata": {},
   "source": [
    "Example 31: Return Greatest Common Divisor / Highest Common Factor of two input numbers (Euclidean Algorithmn)"
   ]
  },
  {
   "cell_type": "code",
   "execution_count": 66,
   "id": "f1de8a3a",
   "metadata": {},
   "outputs": [
    {
     "name": "stdout",
     "output_type": "stream",
     "text": [
      "Please enter two integers\n",
      "2260\n",
      "816\n",
      "Euclid's Algorithm for calculation GCD\n",
      "Greater: 816 Smaller: 628 Remainder: 628\n",
      "Greater: 628 Smaller: 188 Remainder: 188\n",
      "Greater: 188 Smaller: 64 Remainder: 64\n",
      "Greater: 64 Smaller: 60 Remainder: 60\n",
      "Greater: 60 Smaller: 4 Remainder: 4\n",
      "GCD of 2260 & 816 is 4\n"
     ]
    }
   ],
   "source": [
    "print(\"Please enter two integers\")\n",
    "a = int(input())\n",
    "b = int(input())\n",
    "\n",
    "\n",
    "if a == 0: \n",
    "   print(\"GCD of:\", \"(\",a,\",\",b, \")\",\"is\", b)\n",
    "\n",
    "if b == 0: \n",
    "   print(\"GCD of:\", \"(\",a,\",\",b, \")\",\"is\", a)\n",
    "\n",
    "\n",
    "\n",
    "print(\"Euclid's Algorithm for calculation GCD\")\n",
    "\n",
    "\n",
    "\n",
    "if a>b and a>0 and b>0:\n",
    "    greater = a\n",
    "    smaller = b\n",
    "elif a<b and a>0 and b>0:\n",
    "    greater = b\n",
    "    smaller = a\n",
    "\n",
    "    \n",
    "remainder = greater % smaller\n",
    "\n",
    "\n",
    "while remainder != 0:\n",
    "    greater = smaller \n",
    "    smaller = remainder\n",
    "    \n",
    "    print (\"Greater:\", greater, \"Smaller:\",smaller,\"Remainder:\", remainder)\n",
    "    \n",
    "    remainder = greater % smaller\n",
    "\n",
    "    \n",
    "    if remainder == 0:\n",
    "        break\n",
    "\n",
    "print(\"GCD of\", a,\"&\",b, \"is\", smaller)    "
   ]
  },
  {
   "cell_type": "markdown",
   "id": "cfdb4251",
   "metadata": {},
   "source": [
    "Example 32: Iterate through the list and print the Index no. of the element\n"
   ]
  },
  {
   "cell_type": "code",
   "execution_count": 88,
   "id": "5a5fa876",
   "metadata": {},
   "outputs": [
    {
     "name": "stdout",
     "output_type": "stream",
     "text": [
      "Enter month\n",
      "Dec\n",
      "Index of Dec is: 11\n"
     ]
    }
   ],
   "source": [
    "lst = ['Jan', 'Feb', 'Mar','Apr','May','Jun','Jul','Aug','Sep','Oct','Nov','Dec']\n",
    "\n",
    "print(\"Enter month\")\n",
    "\n",
    "n = str(input())\n",
    "l = len(lst)\n",
    "i = 0\n",
    "\n",
    "while i < l:\n",
    "    if n == lst[i]:\n",
    "        print(\"Index of\",n, \"is:\",i)    \n",
    "    i = i+1"
   ]
  },
  {
   "cell_type": "markdown",
   "id": "5c50bdb7",
   "metadata": {},
   "source": [
    "Example 33: Using while loop append all the elements in a list to a new list unless the element is an empty string: \"\"."
   ]
  },
  {
   "cell_type": "code",
   "execution_count": 12,
   "id": "3ddc4b7b",
   "metadata": {},
   "outputs": [
    {
     "name": "stdout",
     "output_type": "stream",
     "text": [
      "Enter list element\n",
      "1\n",
      "2\n",
      "3\n",
      "\n",
      "['1', '2', '3']\n"
     ]
    }
   ],
   "source": [
    "lst = []\n",
    "\n",
    "print(\"Enter list element\")\n",
    "\n",
    "i = 0 \n",
    "\n",
    "while i < 10:\n",
    "    n = str(input())\n",
    "    \n",
    "    if n ==\"\":\n",
    "        break\n",
    "    \n",
    "    lst.append(n)\n",
    "    \n",
    "    i = i+1\n",
    "    \n",
    "print(lst)    \n",
    "    \n"
   ]
  },
  {
   "cell_type": "markdown",
   "id": "4fcdefca",
   "metadata": {},
   "source": [
    "Example 34: Count the occurrences of odd numbers in a range entered by the user excluding the endpoints."
   ]
  },
  {
   "cell_type": "code",
   "execution_count": 15,
   "id": "0d9810b0",
   "metadata": {},
   "outputs": [
    {
     "name": "stdout",
     "output_type": "stream",
     "text": [
      "Enter Start and End\n",
      "10\n",
      "20\n",
      "Occurence of odd numbers between the range is: 5\n"
     ]
    }
   ],
   "source": [
    "print(\"Enter Start and End\")\n",
    "\n",
    "start = int(input())\n",
    "end = int(input())\n",
    "\n",
    "i = start\n",
    "count = 0 \n",
    "\n",
    "while i < end:\n",
    "    if i%2==0:\n",
    "        count = count + 1\n",
    "    i = i +1\n",
    "\n",
    "print(\"Occurence of odd numbers between the range is:\", count)\n",
    "\n",
    "    \n",
    "\n"
   ]
  },
  {
   "cell_type": "markdown",
   "id": "657a6221",
   "metadata": {},
   "source": [
    "Example 35: If else loop along with while loop - Demo!"
   ]
  },
  {
   "cell_type": "code",
   "execution_count": 19,
   "id": "778eb4c6",
   "metadata": {},
   "outputs": [
    {
     "name": "stdout",
     "output_type": "stream",
     "text": [
      "Enter number between 0-100?50\n",
      "Enter number between 0-100?50\n",
      "Enter number between 0-100?20\n",
      "Enter number between 0-100?6\n",
      "Enter number between 0-100?1\n",
      "While loop ended gracefully.\n"
     ]
    }
   ],
   "source": [
    "count = 0\n",
    "while count < 5 :\n",
    "        num = int(input(\"Enter number between 0-100?\"))\n",
    "        if (num < 0) or (num > 100):\n",
    "            print(\"Aborted while: You've entered an invalid number.\")\n",
    "            break\n",
    "        count += 1\n",
    "else:\n",
    "        print(\"While loop ended gracefully.\")"
   ]
  },
  {
   "cell_type": "markdown",
   "id": "331b2b37",
   "metadata": {},
   "source": [
    "Example 36: Guessing the random number in three attempts"
   ]
  },
  {
   "cell_type": "code",
   "execution_count": 23,
   "id": "7ce8de2d",
   "metadata": {},
   "outputs": [
    {
     "name": "stdout",
     "output_type": "stream",
     "text": [
      "5\n",
      "6\n",
      "3\n",
      "You lose\n"
     ]
    }
   ],
   "source": [
    "from random import randint\n",
    "\n",
    "random_number = randint(1, 10)\n",
    "\n",
    "guesses_left = 3\n",
    "# Start your game!\n",
    "while guesses_left>0:\n",
    "    guess=int(input())\n",
    "    if guess==random_number:\n",
    "        print (\"You win\")\n",
    "        break\n",
    "    guesses_left-=1\n",
    "else:\n",
    "    print (\"You lose\")"
   ]
  },
  {
   "cell_type": "markdown",
   "id": "7ca70bb2",
   "metadata": {},
   "source": [
    "Example 37: Selecting random string and calculating the score correspondingly"
   ]
  },
  {
   "cell_type": "code",
   "execution_count": 73,
   "id": "ea8083b2",
   "metadata": {},
   "outputs": [
    {
     "name": "stdout",
     "output_type": "stream",
     "text": [
      "ABCDEFGHIJKLMNOPQRSTUVWXYZ\n",
      "Enter no of letters:\n",
      "10\n",
      "['Y', 'F', 'B', 'N', 'P', 'X', 'W', 'C', 'O', 'G']\n",
      "YFBNPXWCOG\n",
      "4431384312\n",
      "Total score of the above 10 random letters selected is: 33\n"
     ]
    }
   ],
   "source": [
    "import string\n",
    "import random\n",
    "\n",
    "dictionary = {'A':1,\n",
    "              'B':3,\n",
    "              'C':3,\n",
    "              'D':2,\n",
    "              'E':1,\n",
    "              'F':4,\n",
    "              'G':2,\n",
    "              'H':4,\n",
    "              'I':1,\n",
    "              'J':8,\n",
    "              'K':5,\n",
    "              'L':1,\n",
    "              'M':3,\n",
    "              'N':1,\n",
    "              'O':1,\n",
    "              'P':3,\n",
    "              'Q':9,\n",
    "              'R':1,\n",
    "              'S':1,\n",
    "              'T':1,\n",
    "              'U':1,\n",
    "              'V':4,\n",
    "              'W':4,\n",
    "              'X':8,\n",
    "              'Y':4,\n",
    "              'Z':9}\n",
    "\n",
    "LETTERS = string.ascii_uppercase\n",
    "print(LETTERS)\n",
    "\n",
    "      \n",
    "print(\"Enter no of letters:\")\n",
    "n = int(input())\n",
    "\n",
    "rand_LETTERS = random.choices(LETTERS,k=n)\n",
    "print(rand_LETTERS)\n",
    "print(''.join(rand_LETTERS))\n",
    "\n",
    "sum = 0\n",
    "i = 0 \n",
    "while i < n:\n",
    "    a = rand_LETTERS[i]\n",
    "    b = dictionary.get(a)\n",
    "    print(b, sep = ',', end = '')\n",
    "    sum = b + sum\n",
    "    i = i+1\n",
    "\n",
    "    \n",
    "print(\"\\nTotal score of the above\", n , \"random letters selected is:\",sum)    "
   ]
  },
  {
   "cell_type": "code",
   "execution_count": null,
   "id": "035c1f41",
   "metadata": {},
   "outputs": [],
   "source": []
  },
  {
   "cell_type": "code",
   "execution_count": null,
   "id": "ab7729cf",
   "metadata": {},
   "outputs": [],
   "source": []
  },
  {
   "cell_type": "code",
   "execution_count": null,
   "id": "e8fcaa85",
   "metadata": {},
   "outputs": [],
   "source": []
  },
  {
   "cell_type": "code",
   "execution_count": null,
   "id": "32102a73",
   "metadata": {},
   "outputs": [],
   "source": []
  },
  {
   "cell_type": "code",
   "execution_count": null,
   "id": "4612c0d1",
   "metadata": {},
   "outputs": [],
   "source": []
  },
  {
   "cell_type": "code",
   "execution_count": null,
   "id": "4117f006",
   "metadata": {},
   "outputs": [],
   "source": []
  },
  {
   "cell_type": "code",
   "execution_count": null,
   "id": "92f9a8c0",
   "metadata": {},
   "outputs": [],
   "source": []
  },
  {
   "cell_type": "code",
   "execution_count": null,
   "id": "f1830e08",
   "metadata": {},
   "outputs": [],
   "source": []
  },
  {
   "cell_type": "code",
   "execution_count": null,
   "id": "e3257893",
   "metadata": {},
   "outputs": [],
   "source": []
  },
  {
   "cell_type": "code",
   "execution_count": null,
   "id": "6bd70f19",
   "metadata": {},
   "outputs": [],
   "source": []
  },
  {
   "cell_type": "code",
   "execution_count": null,
   "id": "be166019",
   "metadata": {},
   "outputs": [],
   "source": []
  },
  {
   "cell_type": "code",
   "execution_count": null,
   "id": "bdf0481c",
   "metadata": {},
   "outputs": [],
   "source": []
  },
  {
   "cell_type": "code",
   "execution_count": null,
   "id": "ec73a066",
   "metadata": {},
   "outputs": [],
   "source": []
  },
  {
   "cell_type": "code",
   "execution_count": null,
   "id": "7bb0c86c",
   "metadata": {},
   "outputs": [],
   "source": []
  },
  {
   "cell_type": "code",
   "execution_count": null,
   "id": "61b1e908",
   "metadata": {},
   "outputs": [],
   "source": []
  }
 ],
 "metadata": {
  "kernelspec": {
   "display_name": "Python 3",
   "language": "python",
   "name": "python3"
  },
  "language_info": {
   "codemirror_mode": {
    "name": "ipython",
    "version": 3
   },
   "file_extension": ".py",
   "mimetype": "text/x-python",
   "name": "python",
   "nbconvert_exporter": "python",
   "pygments_lexer": "ipython3",
   "version": "3.8.8"
  }
 },
 "nbformat": 4,
 "nbformat_minor": 5
}
